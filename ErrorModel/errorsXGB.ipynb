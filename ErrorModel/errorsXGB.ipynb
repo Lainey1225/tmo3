{
  "nbformat": 4,
  "nbformat_minor": 0,
  "metadata": {
    "colab": {
      "name": "errorsXGB.ipynb",
      "provenance": [],
      "include_colab_link": true
    },
    "kernelspec": {
      "name": "python3",
      "display_name": "Python 3"
    },
    "language_info": {
      "name": "python"
    }
  },
  "cells": [
    {
      "cell_type": "markdown",
      "metadata": {
        "id": "view-in-github",
        "colab_type": "text"
      },
      "source": [
        "<a href=\"https://colab.research.google.com/github/Lainey1225/tmo3/blob/main/ErrorModel/errorsXGB.ipynb\" target=\"_parent\"><img src=\"https://colab.research.google.com/assets/colab-badge.svg\" alt=\"Open In Colab\"/></a>"
      ]
    },
    {
      "cell_type": "code",
      "metadata": {
        "_uuid": "8f2839f25d086af736a60e9eeb907d3b93b6e0e5",
        "_cell_guid": "b1076dfc-b9ad-4769-8c92-a6c4dae69d19",
        "trusted": true,
        "id": "6YE71F8hyhu-"
      },
      "source": [
        "# Libraries\n",
        "import numpy as np\n",
        "import pandas as pd\n",
        "import matplotlib.pyplot as plt\n",
        "import matplotlib\n",
        "%matplotlib inline\n",
        "import seaborn as sns\n",
        "from mpl_toolkits.mplot3d import Axes3D\n",
        "from sklearn.preprocessing import minmax_scale  \n",
        "from sklearn.model_selection import train_test_split, GridSearchCV\n",
        "from sklearn.metrics import confusion_matrix, classification_report\n",
        "from matplotlib.lines import Line2D\n",
        "\n",
        "\n",
        "from sklearn.tree import DecisionTreeClassifier\n",
        "from sklearn.ensemble import RandomForestClassifier\n",
        "from sklearn.neighbors import KNeighborsClassifier\n",
        "from sklearn.svm import SVC\n",
        "from sklearn.naive_bayes import GaussianNB\n",
        "from sklearn.model_selection import RepeatedKFold\n",
        "from sklearn.model_selection import cross_val_score\n",
        "import os\n",
        "\n"
      ],
      "execution_count": null,
      "outputs": []
    },
    {
      "cell_type": "code",
      "metadata": {
        "_uuid": "d629ff2d2480ee46fbb7e2d37f6b5fab8052498a",
        "_cell_guid": "79c7e3d0-c299-4dcb-8224-4455121ee9b0",
        "trusted": true,
        "colab": {
          "base_uri": "https://localhost:8080/"
        },
        "id": "H7ShNesfyhvA",
        "outputId": "66f20bc3-f4d8-4f1b-eccf-d2fabf3c778f"
      },
      "source": [
        "# Defining dataset and browsing content\n",
        "data = pd.read_csv('https://raw.githubusercontent.com/tleitch/BDML/main/ErrorModel/errors.csv')\n",
        "data.info()"
      ],
      "execution_count": null,
      "outputs": [
        {
          "output_type": "stream",
          "text": [
            "<class 'pandas.core.frame.DataFrame'>\n",
            "RangeIndex: 124 entries, 0 to 123\n",
            "Data columns (total 10 columns):\n",
            " #   Column   Non-Null Count  Dtype  \n",
            "---  ------   --------------  -----  \n",
            " 0   var 1    124 non-null    float64\n",
            " 1   var 2    124 non-null    float64\n",
            " 2   var 3    124 non-null    float64\n",
            " 3   var 4    124 non-null    int64  \n",
            " 4   var 5    124 non-null    int64  \n",
            " 5   var 6    124 non-null    float64\n",
            " 6   var 7    124 non-null    int64  \n",
            " 7   var 8    124 non-null    float64\n",
            " 8   var 9    124 non-null    float64\n",
            " 9   Outcome  124 non-null    int64  \n",
            "dtypes: float64(6), int64(4)\n",
            "memory usage: 9.8 KB\n"
          ],
          "name": "stdout"
        }
      ]
    },
    {
      "cell_type": "code",
      "metadata": {
        "colab": {
          "base_uri": "https://localhost:8080/",
          "height": 195
        },
        "id": "4foSZjA1bj0p",
        "outputId": "4010e1c7-2719-4736-84ec-4cc624ad6946"
      },
      "source": [
        "data.head()"
      ],
      "execution_count": null,
      "outputs": [
        {
          "output_type": "execute_result",
          "data": {
            "text/html": [
              "<div>\n",
              "<style scoped>\n",
              "    .dataframe tbody tr th:only-of-type {\n",
              "        vertical-align: middle;\n",
              "    }\n",
              "\n",
              "    .dataframe tbody tr th {\n",
              "        vertical-align: top;\n",
              "    }\n",
              "\n",
              "    .dataframe thead th {\n",
              "        text-align: right;\n",
              "    }\n",
              "</style>\n",
              "<table border=\"1\" class=\"dataframe\">\n",
              "  <thead>\n",
              "    <tr style=\"text-align: right;\">\n",
              "      <th></th>\n",
              "      <th>var 1</th>\n",
              "      <th>var 2</th>\n",
              "      <th>var 3</th>\n",
              "      <th>var 4</th>\n",
              "      <th>var 5</th>\n",
              "      <th>var 6</th>\n",
              "      <th>var 7</th>\n",
              "      <th>var 8</th>\n",
              "      <th>var 9</th>\n",
              "      <th>Outcome</th>\n",
              "    </tr>\n",
              "  </thead>\n",
              "  <tbody>\n",
              "    <tr>\n",
              "      <th>0</th>\n",
              "      <td>0.653573</td>\n",
              "      <td>258.855037</td>\n",
              "      <td>22.999826</td>\n",
              "      <td>1</td>\n",
              "      <td>71</td>\n",
              "      <td>1.240224</td>\n",
              "      <td>2</td>\n",
              "      <td>21.472308</td>\n",
              "      <td>-0.405010</td>\n",
              "      <td>1</td>\n",
              "    </tr>\n",
              "    <tr>\n",
              "      <th>1</th>\n",
              "      <td>0.576011</td>\n",
              "      <td>270.889712</td>\n",
              "      <td>23.748059</td>\n",
              "      <td>1</td>\n",
              "      <td>76</td>\n",
              "      <td>1.175028</td>\n",
              "      <td>3</td>\n",
              "      <td>21.123431</td>\n",
              "      <td>0.611585</td>\n",
              "      <td>0</td>\n",
              "    </tr>\n",
              "    <tr>\n",
              "      <th>2</th>\n",
              "      <td>0.657729</td>\n",
              "      <td>281.479553</td>\n",
              "      <td>24.914027</td>\n",
              "      <td>2</td>\n",
              "      <td>81</td>\n",
              "      <td>1.177164</td>\n",
              "      <td>1</td>\n",
              "      <td>19.483365</td>\n",
              "      <td>1.054139</td>\n",
              "      <td>0</td>\n",
              "    </tr>\n",
              "    <tr>\n",
              "      <th>3</th>\n",
              "      <td>0.546925</td>\n",
              "      <td>302.548908</td>\n",
              "      <td>22.341946</td>\n",
              "      <td>2</td>\n",
              "      <td>76</td>\n",
              "      <td>1.187526</td>\n",
              "      <td>1</td>\n",
              "      <td>20.837815</td>\n",
              "      <td>0.253949</td>\n",
              "      <td>0</td>\n",
              "    </tr>\n",
              "    <tr>\n",
              "      <th>4</th>\n",
              "      <td>0.569086</td>\n",
              "      <td>258.731574</td>\n",
              "      <td>22.351487</td>\n",
              "      <td>1</td>\n",
              "      <td>72</td>\n",
              "      <td>1.296652</td>\n",
              "      <td>1</td>\n",
              "      <td>20.409844</td>\n",
              "      <td>0.903367</td>\n",
              "      <td>0</td>\n",
              "    </tr>\n",
              "  </tbody>\n",
              "</table>\n",
              "</div>"
            ],
            "text/plain": [
              "      var 1       var 2      var 3  var 4  ...  var 7      var 8     var 9  Outcome\n",
              "0  0.653573  258.855037  22.999826      1  ...      2  21.472308 -0.405010        1\n",
              "1  0.576011  270.889712  23.748059      1  ...      3  21.123431  0.611585        0\n",
              "2  0.657729  281.479553  24.914027      2  ...      1  19.483365  1.054139        0\n",
              "3  0.546925  302.548908  22.341946      2  ...      1  20.837815  0.253949        0\n",
              "4  0.569086  258.731574  22.351487      1  ...      1  20.409844  0.903367        0\n",
              "\n",
              "[5 rows x 10 columns]"
            ]
          },
          "metadata": {
            "tags": []
          },
          "execution_count": 3
        }
      ]
    },
    {
      "cell_type": "markdown",
      "metadata": {
        "id": "dUCt1rbwbsGX"
      },
      "source": [
        "This data is pretty clean from the case authors. Looks like missing is taken care of, the data has been pre-balanced by some algorithm. Only thing we might want to do before using it is standardize/normalize. let's create an X and y for working with the data."
      ]
    },
    {
      "cell_type": "code",
      "metadata": {
        "colab": {
          "base_uri": "https://localhost:8080/",
          "height": 195
        },
        "id": "fGZXCQeSbrnV",
        "outputId": "a0e462d1-8032-4714-d01f-2ff6c15ecaed"
      },
      "source": [
        "X=data.iloc[0:,0:9]\n",
        "X.tail()"
      ],
      "execution_count": null,
      "outputs": [
        {
          "output_type": "execute_result",
          "data": {
            "text/html": [
              "<div>\n",
              "<style scoped>\n",
              "    .dataframe tbody tr th:only-of-type {\n",
              "        vertical-align: middle;\n",
              "    }\n",
              "\n",
              "    .dataframe tbody tr th {\n",
              "        vertical-align: top;\n",
              "    }\n",
              "\n",
              "    .dataframe thead th {\n",
              "        text-align: right;\n",
              "    }\n",
              "</style>\n",
              "<table border=\"1\" class=\"dataframe\">\n",
              "  <thead>\n",
              "    <tr style=\"text-align: right;\">\n",
              "      <th></th>\n",
              "      <th>var 1</th>\n",
              "      <th>var 2</th>\n",
              "      <th>var 3</th>\n",
              "      <th>var 4</th>\n",
              "      <th>var 5</th>\n",
              "      <th>var 6</th>\n",
              "      <th>var 7</th>\n",
              "      <th>var 8</th>\n",
              "      <th>var 9</th>\n",
              "    </tr>\n",
              "  </thead>\n",
              "  <tbody>\n",
              "    <tr>\n",
              "      <th>119</th>\n",
              "      <td>0.636953</td>\n",
              "      <td>299.510831</td>\n",
              "      <td>22.146210</td>\n",
              "      <td>2</td>\n",
              "      <td>81</td>\n",
              "      <td>1.242409</td>\n",
              "      <td>2</td>\n",
              "      <td>21.448554</td>\n",
              "      <td>-0.382400</td>\n",
              "    </tr>\n",
              "    <tr>\n",
              "      <th>120</th>\n",
              "      <td>0.627258</td>\n",
              "      <td>259.353564</td>\n",
              "      <td>23.078033</td>\n",
              "      <td>1</td>\n",
              "      <td>83</td>\n",
              "      <td>1.239721</td>\n",
              "      <td>1</td>\n",
              "      <td>19.630472</td>\n",
              "      <td>-0.164600</td>\n",
              "    </tr>\n",
              "    <tr>\n",
              "      <th>121</th>\n",
              "      <td>0.544155</td>\n",
              "      <td>299.066928</td>\n",
              "      <td>25.308636</td>\n",
              "      <td>2</td>\n",
              "      <td>82</td>\n",
              "      <td>1.224124</td>\n",
              "      <td>1</td>\n",
              "      <td>21.104548</td>\n",
              "      <td>1.548561</td>\n",
              "    </tr>\n",
              "    <tr>\n",
              "      <th>122</th>\n",
              "      <td>0.643878</td>\n",
              "      <td>275.315415</td>\n",
              "      <td>23.123910</td>\n",
              "      <td>1</td>\n",
              "      <td>79</td>\n",
              "      <td>1.226226</td>\n",
              "      <td>3</td>\n",
              "      <td>20.911596</td>\n",
              "      <td>-0.734790</td>\n",
              "    </tr>\n",
              "    <tr>\n",
              "      <th>123</th>\n",
              "      <td>0.603712</td>\n",
              "      <td>277.675805</td>\n",
              "      <td>22.363775</td>\n",
              "      <td>2</td>\n",
              "      <td>73</td>\n",
              "      <td>1.187769</td>\n",
              "      <td>3</td>\n",
              "      <td>20.601871</td>\n",
              "      <td>0.061978</td>\n",
              "    </tr>\n",
              "  </tbody>\n",
              "</table>\n",
              "</div>"
            ],
            "text/plain": [
              "        var 1       var 2      var 3  ...  var 7      var 8     var 9\n",
              "119  0.636953  299.510831  22.146210  ...      2  21.448554 -0.382400\n",
              "120  0.627258  259.353564  23.078033  ...      1  19.630472 -0.164600\n",
              "121  0.544155  299.066928  25.308636  ...      1  21.104548  1.548561\n",
              "122  0.643878  275.315415  23.123910  ...      3  20.911596 -0.734790\n",
              "123  0.603712  277.675805  22.363775  ...      3  20.601871  0.061978\n",
              "\n",
              "[5 rows x 9 columns]"
            ]
          },
          "metadata": {
            "tags": []
          },
          "execution_count": 4
        }
      ]
    },
    {
      "cell_type": "code",
      "metadata": {
        "colab": {
          "base_uri": "https://localhost:8080/"
        },
        "id": "PsUeen0PcnQm",
        "outputId": "b0e4396c-e30d-4bc0-a511-86c8c9aa3414"
      },
      "source": [
        "y=data[\"Outcome\"]\n",
        "y.head()"
      ],
      "execution_count": null,
      "outputs": [
        {
          "output_type": "execute_result",
          "data": {
            "text/plain": [
              "0    1\n",
              "1    0\n",
              "2    0\n",
              "3    0\n",
              "4    0\n",
              "Name: Outcome, dtype: int64"
            ]
          },
          "metadata": {
            "tags": []
          },
          "execution_count": 5
        }
      ]
    },
    {
      "cell_type": "markdown",
      "metadata": {
        "id": "bgT0JuEDBojs"
      },
      "source": [
        "Var 4, var 5, and var 7 all look like they might be categorical factors, let's check"
      ]
    },
    {
      "cell_type": "code",
      "metadata": {
        "colab": {
          "base_uri": "https://localhost:8080/"
        },
        "id": "zqBKX7jOBfZ3",
        "outputId": "0215591e-c824-4728-e10b-9e571a288d82"
      },
      "source": [
        "X[\"var 4\"].unique()"
      ],
      "execution_count": null,
      "outputs": [
        {
          "output_type": "execute_result",
          "data": {
            "text/plain": [
              "array([1, 2])"
            ]
          },
          "metadata": {
            "tags": []
          },
          "execution_count": 6
        }
      ]
    },
    {
      "cell_type": "code",
      "metadata": {
        "colab": {
          "base_uri": "https://localhost:8080/"
        },
        "id": "cDAZGWQpBfZ3",
        "outputId": "60dc3505-522f-4fdb-c771-560977db871c"
      },
      "source": [
        "X[\"var 5\"].unique()"
      ],
      "execution_count": null,
      "outputs": [
        {
          "output_type": "execute_result",
          "data": {
            "text/plain": [
              "array([71, 76, 81, 72, 88, 80, 85, 82, 70, 78, 90, 79, 77, 73, 83, 86, 89,\n",
              "       84, 87, 74, 75])"
            ]
          },
          "metadata": {
            "tags": []
          },
          "execution_count": 7
        }
      ]
    },
    {
      "cell_type": "code",
      "metadata": {
        "colab": {
          "base_uri": "https://localhost:8080/"
        },
        "id": "sB2tFxSaBfZ4",
        "outputId": "e1115a04-cfbf-4a22-a2ec-4318e4485732"
      },
      "source": [
        "X[\"var 7\"].unique()"
      ],
      "execution_count": null,
      "outputs": [
        {
          "output_type": "execute_result",
          "data": {
            "text/plain": [
              "array([2, 3, 1])"
            ]
          },
          "metadata": {
            "tags": []
          },
          "execution_count": 8
        }
      ]
    },
    {
      "cell_type": "markdown",
      "metadata": {
        "id": "9AbpMy9oBzHw"
      },
      "source": [
        "Yep, these 3 variables will need 1 hot encoding"
      ]
    },
    {
      "cell_type": "code",
      "metadata": {
        "id": "nhQSYfCmJj_E",
        "colab": {
          "base_uri": "https://localhost:8080/",
          "height": 232
        },
        "outputId": "3a621e2a-8292-4295-84ea-a6bdcbeace78"
      },
      "source": [
        "data=X.copy()\n",
        "data = pd.get_dummies(data,prefix=['var 4'], columns = ['var 4'])\n",
        "data = pd.get_dummies(data,prefix=['var 5'], columns = ['var 5'])\n",
        "data = pd.get_dummies(data,prefix=['var 7'], columns = ['var 7'])\n",
        "Xencd=data\n",
        "Xencd.head()\n"
      ],
      "execution_count": null,
      "outputs": [
        {
          "output_type": "execute_result",
          "data": {
            "text/html": [
              "<div>\n",
              "<style scoped>\n",
              "    .dataframe tbody tr th:only-of-type {\n",
              "        vertical-align: middle;\n",
              "    }\n",
              "\n",
              "    .dataframe tbody tr th {\n",
              "        vertical-align: top;\n",
              "    }\n",
              "\n",
              "    .dataframe thead th {\n",
              "        text-align: right;\n",
              "    }\n",
              "</style>\n",
              "<table border=\"1\" class=\"dataframe\">\n",
              "  <thead>\n",
              "    <tr style=\"text-align: right;\">\n",
              "      <th></th>\n",
              "      <th>var 1</th>\n",
              "      <th>var 2</th>\n",
              "      <th>var 3</th>\n",
              "      <th>var 6</th>\n",
              "      <th>var 8</th>\n",
              "      <th>var 9</th>\n",
              "      <th>var 4_1</th>\n",
              "      <th>var 4_2</th>\n",
              "      <th>var 5_70</th>\n",
              "      <th>var 5_71</th>\n",
              "      <th>var 5_72</th>\n",
              "      <th>var 5_73</th>\n",
              "      <th>var 5_74</th>\n",
              "      <th>var 5_75</th>\n",
              "      <th>var 5_76</th>\n",
              "      <th>var 5_77</th>\n",
              "      <th>var 5_78</th>\n",
              "      <th>var 5_79</th>\n",
              "      <th>var 5_80</th>\n",
              "      <th>var 5_81</th>\n",
              "      <th>var 5_82</th>\n",
              "      <th>var 5_83</th>\n",
              "      <th>var 5_84</th>\n",
              "      <th>var 5_85</th>\n",
              "      <th>var 5_86</th>\n",
              "      <th>var 5_87</th>\n",
              "      <th>var 5_88</th>\n",
              "      <th>var 5_89</th>\n",
              "      <th>var 5_90</th>\n",
              "      <th>var 7_1</th>\n",
              "      <th>var 7_2</th>\n",
              "      <th>var 7_3</th>\n",
              "    </tr>\n",
              "  </thead>\n",
              "  <tbody>\n",
              "    <tr>\n",
              "      <th>0</th>\n",
              "      <td>0.653573</td>\n",
              "      <td>258.855037</td>\n",
              "      <td>22.999826</td>\n",
              "      <td>1.240224</td>\n",
              "      <td>21.472308</td>\n",
              "      <td>-0.405010</td>\n",
              "      <td>1</td>\n",
              "      <td>0</td>\n",
              "      <td>0</td>\n",
              "      <td>1</td>\n",
              "      <td>0</td>\n",
              "      <td>0</td>\n",
              "      <td>0</td>\n",
              "      <td>0</td>\n",
              "      <td>0</td>\n",
              "      <td>0</td>\n",
              "      <td>0</td>\n",
              "      <td>0</td>\n",
              "      <td>0</td>\n",
              "      <td>0</td>\n",
              "      <td>0</td>\n",
              "      <td>0</td>\n",
              "      <td>0</td>\n",
              "      <td>0</td>\n",
              "      <td>0</td>\n",
              "      <td>0</td>\n",
              "      <td>0</td>\n",
              "      <td>0</td>\n",
              "      <td>0</td>\n",
              "      <td>0</td>\n",
              "      <td>1</td>\n",
              "      <td>0</td>\n",
              "    </tr>\n",
              "    <tr>\n",
              "      <th>1</th>\n",
              "      <td>0.576011</td>\n",
              "      <td>270.889712</td>\n",
              "      <td>23.748059</td>\n",
              "      <td>1.175028</td>\n",
              "      <td>21.123431</td>\n",
              "      <td>0.611585</td>\n",
              "      <td>1</td>\n",
              "      <td>0</td>\n",
              "      <td>0</td>\n",
              "      <td>0</td>\n",
              "      <td>0</td>\n",
              "      <td>0</td>\n",
              "      <td>0</td>\n",
              "      <td>0</td>\n",
              "      <td>1</td>\n",
              "      <td>0</td>\n",
              "      <td>0</td>\n",
              "      <td>0</td>\n",
              "      <td>0</td>\n",
              "      <td>0</td>\n",
              "      <td>0</td>\n",
              "      <td>0</td>\n",
              "      <td>0</td>\n",
              "      <td>0</td>\n",
              "      <td>0</td>\n",
              "      <td>0</td>\n",
              "      <td>0</td>\n",
              "      <td>0</td>\n",
              "      <td>0</td>\n",
              "      <td>0</td>\n",
              "      <td>0</td>\n",
              "      <td>1</td>\n",
              "    </tr>\n",
              "    <tr>\n",
              "      <th>2</th>\n",
              "      <td>0.657729</td>\n",
              "      <td>281.479553</td>\n",
              "      <td>24.914027</td>\n",
              "      <td>1.177164</td>\n",
              "      <td>19.483365</td>\n",
              "      <td>1.054139</td>\n",
              "      <td>0</td>\n",
              "      <td>1</td>\n",
              "      <td>0</td>\n",
              "      <td>0</td>\n",
              "      <td>0</td>\n",
              "      <td>0</td>\n",
              "      <td>0</td>\n",
              "      <td>0</td>\n",
              "      <td>0</td>\n",
              "      <td>0</td>\n",
              "      <td>0</td>\n",
              "      <td>0</td>\n",
              "      <td>0</td>\n",
              "      <td>1</td>\n",
              "      <td>0</td>\n",
              "      <td>0</td>\n",
              "      <td>0</td>\n",
              "      <td>0</td>\n",
              "      <td>0</td>\n",
              "      <td>0</td>\n",
              "      <td>0</td>\n",
              "      <td>0</td>\n",
              "      <td>0</td>\n",
              "      <td>1</td>\n",
              "      <td>0</td>\n",
              "      <td>0</td>\n",
              "    </tr>\n",
              "    <tr>\n",
              "      <th>3</th>\n",
              "      <td>0.546925</td>\n",
              "      <td>302.548908</td>\n",
              "      <td>22.341946</td>\n",
              "      <td>1.187526</td>\n",
              "      <td>20.837815</td>\n",
              "      <td>0.253949</td>\n",
              "      <td>0</td>\n",
              "      <td>1</td>\n",
              "      <td>0</td>\n",
              "      <td>0</td>\n",
              "      <td>0</td>\n",
              "      <td>0</td>\n",
              "      <td>0</td>\n",
              "      <td>0</td>\n",
              "      <td>1</td>\n",
              "      <td>0</td>\n",
              "      <td>0</td>\n",
              "      <td>0</td>\n",
              "      <td>0</td>\n",
              "      <td>0</td>\n",
              "      <td>0</td>\n",
              "      <td>0</td>\n",
              "      <td>0</td>\n",
              "      <td>0</td>\n",
              "      <td>0</td>\n",
              "      <td>0</td>\n",
              "      <td>0</td>\n",
              "      <td>0</td>\n",
              "      <td>0</td>\n",
              "      <td>1</td>\n",
              "      <td>0</td>\n",
              "      <td>0</td>\n",
              "    </tr>\n",
              "    <tr>\n",
              "      <th>4</th>\n",
              "      <td>0.569086</td>\n",
              "      <td>258.731574</td>\n",
              "      <td>22.351487</td>\n",
              "      <td>1.296652</td>\n",
              "      <td>20.409844</td>\n",
              "      <td>0.903367</td>\n",
              "      <td>1</td>\n",
              "      <td>0</td>\n",
              "      <td>0</td>\n",
              "      <td>0</td>\n",
              "      <td>1</td>\n",
              "      <td>0</td>\n",
              "      <td>0</td>\n",
              "      <td>0</td>\n",
              "      <td>0</td>\n",
              "      <td>0</td>\n",
              "      <td>0</td>\n",
              "      <td>0</td>\n",
              "      <td>0</td>\n",
              "      <td>0</td>\n",
              "      <td>0</td>\n",
              "      <td>0</td>\n",
              "      <td>0</td>\n",
              "      <td>0</td>\n",
              "      <td>0</td>\n",
              "      <td>0</td>\n",
              "      <td>0</td>\n",
              "      <td>0</td>\n",
              "      <td>0</td>\n",
              "      <td>1</td>\n",
              "      <td>0</td>\n",
              "      <td>0</td>\n",
              "    </tr>\n",
              "  </tbody>\n",
              "</table>\n",
              "</div>"
            ],
            "text/plain": [
              "      var 1       var 2      var 3  ...  var 7_1  var 7_2  var 7_3\n",
              "0  0.653573  258.855037  22.999826  ...        0        1        0\n",
              "1  0.576011  270.889712  23.748059  ...        0        0        1\n",
              "2  0.657729  281.479553  24.914027  ...        1        0        0\n",
              "3  0.546925  302.548908  22.341946  ...        1        0        0\n",
              "4  0.569086  258.731574  22.351487  ...        1        0        0\n",
              "\n",
              "[5 rows x 32 columns]"
            ]
          },
          "metadata": {
            "tags": []
          },
          "execution_count": 9
        }
      ]
    },
    {
      "cell_type": "markdown",
      "metadata": {
        "id": "HBZPV1jx8Fn4"
      },
      "source": [
        "Let's create train test split"
      ]
    },
    {
      "cell_type": "code",
      "metadata": {
        "id": "Jpp-eiu58FY6",
        "colab": {
          "base_uri": "https://localhost:8080/"
        },
        "outputId": "54ebb4ef-10dc-4163-c451-b568d526f5e5"
      },
      "source": [
        "X_train, X_test, y_train, y_test = train_test_split(Xencd, y, test_size=0.25, random_state=42)\n",
        "print(\"X_train\", X_train.shape)\n",
        "print(\"y_train\", y_train.shape)\n",
        "print(\"X_test\", X_test.shape)\n",
        "print(\"y_test\", y_test.shape)"
      ],
      "execution_count": null,
      "outputs": [
        {
          "output_type": "stream",
          "text": [
            "X_train (93, 32)\n",
            "y_train (93,)\n",
            "X_test (31, 32)\n",
            "y_test (31,)\n"
          ],
          "name": "stdout"
        }
      ]
    },
    {
      "cell_type": "code",
      "metadata": {
        "id": "akuCJmItfPtn"
      },
      "source": [
        ""
      ],
      "execution_count": null,
      "outputs": []
    },
    {
      "cell_type": "code",
      "metadata": {
        "trusted": true,
        "id": "7Fq9Pfv2yhu_"
      },
      "source": [
        "# Functions\n",
        "\n",
        "# Showing Confusion Matrix\n",
        "def plot_cm(y_true, y_pred, title, figsize=(5,4)):\n",
        "    cm = confusion_matrix(y_true, y_pred, labels=np.unique(y_true))\n",
        "    cm_sum = np.sum(cm, axis=1, keepdims=True)\n",
        "    cm_perc = cm / cm_sum.astype(float) * 100\n",
        "    annot = np.empty_like(cm).astype(str)\n",
        "    nrows, ncols = cm.shape\n",
        "    for i in range(nrows):\n",
        "        for j in range(ncols):\n",
        "            c = cm[i, j]\n",
        "            p = cm_perc[i, j]\n",
        "            if i == j:\n",
        "                s = cm_sum[i]\n",
        "                annot[i, j] = '%.1f%%\\n%d/%d' % (p, c, s)\n",
        "            elif c == 0:\n",
        "                annot[i, j] = ''\n",
        "            else:\n",
        "                annot[i, j] = '%.1f%%\\n%d' % (p, c)\n",
        "    cm = pd.DataFrame(cm, index=np.unique(y_true), columns=np.unique(y_true))\n",
        "    cm.index.name = 'Actual'\n",
        "    cm.columns.name = 'Predicted'\n",
        "    fig, ax = plt.subplots(figsize=figsize)\n",
        "    plt.title(title)\n",
        "    sns.heatmap(cm, cmap= \"YlGnBu\", annot=annot, fmt='', ax=ax)\n",
        "    "
      ],
      "execution_count": null,
      "outputs": []
    },
    {
      "cell_type": "code",
      "metadata": {
        "trusted": true,
        "id": "FjowFAWtyhvE",
        "colab": {
          "base_uri": "https://localhost:8080/"
        },
        "outputId": "51b031b1-4922-4ea2-803e-b040f712a2c0"
      },
      "source": [
        "# Create RF classification model with GridSearchCV\n",
        "# n_estimators: The number of trees in the forest.\n",
        "# criterion, min_samples_split and min_samples_leaf are same to decision tree parameters.\n",
        "rf_grid = {\"n_estimators\": [50, 100], \"criterion\": [\"gini\", \"entropy\"],\n",
        "           \"min_samples_split\":[3,4,5,6,7], \"min_samples_leaf\":[1,2,3,4,5,6]}\n",
        "rforest = GridSearchCV(RandomForestClassifier(random_state=42), rf_grid, cv=5, iid=False)\n",
        "rforest.fit(X_train, y_train)\n",
        "\n",
        "print(\"RF Tuned Hyperparameters\", rforest.best_params_)\n",
        "print(\"RF Tuned Best Score:\", round(rforest.best_score_,3))"
      ],
      "execution_count": null,
      "outputs": [
        {
          "output_type": "stream",
          "text": [
            "RF Tuned Hyperparameters {'criterion': 'entropy', 'min_samples_leaf': 1, 'min_samples_split': 5, 'n_estimators': 50}\n",
            "RF Tuned Best Score: 0.839\n"
          ],
          "name": "stdout"
        },
        {
          "output_type": "stream",
          "text": [
            "/usr/local/lib/python3.7/dist-packages/sklearn/model_selection/_search.py:823: FutureWarning: The parameter 'iid' is deprecated in 0.22 and will be removed in 0.24.\n",
            "  \"removed in 0.24.\", FutureWarning\n"
          ],
          "name": "stderr"
        }
      ]
    },
    {
      "cell_type": "code",
      "metadata": {
        "id": "6nDgBGNtNTm4",
        "colab": {
          "base_uri": "https://localhost:8080/"
        },
        "outputId": "31cfd22e-4fd2-4555-f79b-7e8aa48e56b4"
      },
      "source": [
        "best_clf_rforest = rforest.best_estimator_\n",
        "best_clf_rforest.fit(X_train, y_train)\n",
        "rforest_y_head = best_clf_rforest.predict(X_test)\n",
        "print(\"Random Forest (RF) Classification Accuracy: {}%\" .format(round(best_clf_rforest.score(X_test, y_test)*100,2)))"
      ],
      "execution_count": null,
      "outputs": [
        {
          "output_type": "stream",
          "text": [
            "Random Forest (RF) Classification Accuracy: 93.55%\n"
          ],
          "name": "stdout"
        }
      ]
    },
    {
      "cell_type": "code",
      "metadata": {
        "id": "Y12glN_wPKjb",
        "colab": {
          "base_uri": "https://localhost:8080/",
          "height": 295
        },
        "outputId": "4fb106e5-fea6-4652-fa52-22e94bebe507"
      },
      "source": [
        "plot_cm(y_test, rforest_y_head, title=\"RF Confusion Matrix\")"
      ],
      "execution_count": null,
      "outputs": [
        {
          "output_type": "display_data",
          "data": {
            "image/png": "[encoded data removed]",
            "text/plain": [
              "<Figure size 360x288 with 2 Axes>"
            ]
          },
          "metadata": {
            "tags": [],
            "needs_background": "light"
          }
        }
      ]
    },
    {
      "cell_type": "markdown",
      "metadata": {
        "id": "y-av6QeFRAc2"
      },
      "source": [
        "To get you started on the HW contest, here is an xgboost model implemented w/o tuning."
      ]
    },
    {
      "cell_type": "code",
      "metadata": {
        "id": "JI1EFtpFs9Xm",
        "colab": {
          "base_uri": "https://localhost:8080/"
        },
        "outputId": "cecc58ac-4e94-4e33-9e8c-3d209c52aa88"
      },
      "source": [
        "from xgboost import XGBClassifier\n",
        "xgbModel=XGBClassifier()\n",
        "xgbModel.fit(X_train, y_train)\n",
        "xgbModel_y_head = xgbModel.predict(X_test)\n",
        "print(\"XGB  Classification Accuracy: {}%\" .format(round(xgbModel.score(X_test, y_test)*100,2)))"
      ],
      "execution_count": null,
      "outputs": [
        {
          "output_type": "stream",
          "text": [
            "XGB  Classification Accuracy: 74.19%\n"
          ],
          "name": "stdout"
        }
      ]
    },
    {
      "cell_type": "code",
      "metadata": {
        "id": "vJ4wmqUKSrqw",
        "colab": {
          "base_uri": "https://localhost:8080/",
          "height": 295
        },
        "outputId": "02c014f3-558b-413e-8151-937e97787cce"
      },
      "source": [
        "plot_cm(y_test, xgbModel_y_head, title=\"XGB Confusion Matrix\")"
      ],
      "execution_count": null,
      "outputs": [
        {
          "output_type": "display_data",
          "data": {
            "image/png": "[encoded data removed]",
            "text/plain": [
              "<Figure size 360x288 with 2 Axes>"
            ]
          },
          "metadata": {
            "tags": [],
            "needs_background": "light"
          }
        }
      ]
    }
  ]
}