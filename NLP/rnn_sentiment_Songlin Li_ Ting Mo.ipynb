{
  "nbformat": 4,
  "nbformat_minor": 0,
  "metadata": {
    "kernelspec": {
      "display_name": "Python 3",
      "language": "python",
      "name": "python3"
    },
    "language_info": {
      "codemirror_mode": {
        "name": "ipython",
        "version": 3
      },
      "file_extension": ".py",
      "mimetype": "text/x-python",
      "name": "python",
      "nbconvert_exporter": "python",
      "pygments_lexer": "ipython3",
      "version": "3.7.1"
    },
    "colab": {
      "name": "rnn_sentiment.ipynb",
      "provenance": [],
      "include_colab_link": true
    }
  },
  "cells": [
    {
      "cell_type": "markdown",
      "metadata": {
        "id": "view-in-github",
        "colab_type": "text"
      },
      "source": [
        "<a href=\"https://colab.research.google.com/github/Lainey1225/tmo3/blob/main/NLP/rnn_sentiment_Songlin%20Li_%20Ting%20Mo.ipynb\" target=\"_parent\"><img src=\"https://colab.research.google.com/assets/colab-badge.svg\" alt=\"Open In Colab\"/></a>"
      ]
    },
    {
      "cell_type": "markdown",
      "metadata": {
        "id": "m-V4o4vqhtUe"
      },
      "source": [
        "*Python Machine Learning 3rd Edition* by [Sebastian Raschka](https://sebastianraschka.com) & [Vahid Mirjalili](http://vahidmirjalili.com), Packt Publishing Ltd. 2019\n",
        "\n",
        "Code Repository: https://github.com/rasbt/python-machine-learning-book-3rd-edition\n",
        "\n",
        "Code License: [MIT License](https://github.com/rasbt/python-machine-learning-book-3rd-edition/blob/master/LICENSE.txt)"
      ]
    },
    {
      "cell_type": "markdown",
      "metadata": {
        "id": "lG4s1A-JhtUg"
      },
      "source": [
        "# Chapter 16: Modeling Sequential Data Using Recurrent Neural Networks (Part 1/2)"
      ]
    },
    {
      "cell_type": "markdown",
      "metadata": {
        "id": "8Mnhux6GhtUg"
      },
      "source": [
        "Note that the optional watermark extension is a small IPython notebook plugin that I developed to make the code reproducible. You can just skip the following line(s)."
      ]
    },
    {
      "cell_type": "code",
      "metadata": {
        "id": "mrowepXphtUh"
      },
      "source": [
        "\n",
        "\n",
        "from IPython.display import Image\n",
        "%matplotlib inline"
      ],
      "execution_count": null,
      "outputs": []
    },
    {
      "cell_type": "markdown",
      "metadata": {
        "id": "eC0GfqfshtUh"
      },
      "source": [
        "# Introducing sequential data\n",
        "\n",
        "## Modeling sequential data⁠—order matters\n",
        "\n",
        "## Representing sequences\n",
        "\n"
      ]
    },
    {
      "cell_type": "code",
      "metadata": {
        "id": "WdulyQN9htUi"
      },
      "source": [
        "#Image(filename='#Images/16_01.png', width=700)"
      ],
      "execution_count": null,
      "outputs": []
    },
    {
      "cell_type": "markdown",
      "metadata": {
        "id": "4w3p1ATThtUi"
      },
      "source": [
        "## The different categories of sequence modeling"
      ]
    },
    {
      "cell_type": "code",
      "metadata": {
        "id": "WvGrwcDFhtUj"
      },
      "source": [
        "#Image(filename='#Images/16_02.png', width=700)"
      ],
      "execution_count": null,
      "outputs": []
    },
    {
      "cell_type": "markdown",
      "metadata": {
        "id": "r9owhGFrhtUj"
      },
      "source": [
        "# RNNs for modeling sequences\n",
        "\n",
        "## Understanding the RNN looping mechanism\n"
      ]
    },
    {
      "cell_type": "code",
      "metadata": {
        "id": "R97_iuJshtUj"
      },
      "source": [
        "#Image(filename='#Images/16_03.png', width=700)"
      ],
      "execution_count": null,
      "outputs": []
    },
    {
      "cell_type": "code",
      "metadata": {
        "id": "x9ZO8tZrhtUk"
      },
      "source": [
        "#Image(filename='#Images/16_04.png', width=700)"
      ],
      "execution_count": null,
      "outputs": []
    },
    {
      "cell_type": "markdown",
      "metadata": {
        "id": "QXOFxsBfhtUk"
      },
      "source": [
        "## Computing activations in an RNN\n"
      ]
    },
    {
      "cell_type": "code",
      "metadata": {
        "id": "0MUoi83_htUk"
      },
      "source": [
        "#Image(filename='#Images/16_05.png', width=700)"
      ],
      "execution_count": null,
      "outputs": []
    },
    {
      "cell_type": "code",
      "metadata": {
        "id": "Dyn6ghx4htUl"
      },
      "source": [
        "#Image(filename='#Images/16_06.png', width=700)"
      ],
      "execution_count": null,
      "outputs": []
    },
    {
      "cell_type": "markdown",
      "metadata": {
        "id": "swcyzr2vhtUl"
      },
      "source": [
        "## Hidden-recurrence vs. output-recurrence"
      ]
    },
    {
      "cell_type": "code",
      "metadata": {
        "id": "ahdtBWeWhtUl"
      },
      "source": [
        "#Image(filename='#Images/16_07.png', width=700)"
      ],
      "execution_count": null,
      "outputs": []
    },
    {
      "cell_type": "code",
      "metadata": {
        "id": "c2CuvDNahtUl",
        "colab": {
          "base_uri": "https://localhost:8080/"
        },
        "outputId": "da98edf6-33bc-4093-d8c1-8b056504fc40"
      },
      "source": [
        "import tensorflow as tf\n",
        "tf.random.set_seed(1)\n",
        "\n",
        "rnn_layer = tf.keras.layers.SimpleRNN(\n",
        "    units=2, use_bias=True, \n",
        "    return_sequences=True)\n",
        "rnn_layer.build(input_shape=(None, None, 5))\n",
        "\n",
        "w_xh, w_oo, b_h = rnn_layer.weights\n",
        "\n",
        "print('W_xh shape:', w_xh.shape)\n",
        "print('W_oo shape:', w_oo.shape)\n",
        "print('b_h shape:', b_h.shape)"
      ],
      "execution_count": null,
      "outputs": [
        {
          "output_type": "stream",
          "text": [
            "W_xh shape: (5, 2)\n",
            "W_oo shape: (2, 2)\n",
            "b_h shape: (2,)\n"
          ],
          "name": "stdout"
        }
      ]
    },
    {
      "cell_type": "code",
      "metadata": {
        "id": "UWZySa04htUm",
        "colab": {
          "base_uri": "https://localhost:8080/"
        },
        "outputId": "1b6769d8-e695-4dcf-ac9f-98050560715d"
      },
      "source": [
        "x_seq = tf.convert_to_tensor(\n",
        "    [[1.0]*5, [2.0]*5, [3.0]*5],\n",
        "    dtype=tf.float32)\n",
        "\n",
        "\n",
        "## output of SimepleRNN:\n",
        "output = rnn_layer(tf.reshape(x_seq, shape=(1, 3, 5)))\n",
        "\n",
        "## manually computing the output:\n",
        "out_man = []\n",
        "for t in range(len(x_seq)):\n",
        "    xt = tf.reshape(x_seq[t], (1, 5))\n",
        "    print('Time step {} =>'.format(t))\n",
        "    print('   Input           :', xt.numpy())\n",
        "    \n",
        "    ht = tf.matmul(xt, w_xh) + b_h    \n",
        "    print('   Hidden          :', ht.numpy())\n",
        "    \n",
        "    if t>0:\n",
        "        prev_o = out_man[t-1]\n",
        "    else:\n",
        "        prev_o = tf.zeros(shape=(ht.shape))\n",
        "        \n",
        "    ot = ht + tf.matmul(prev_o, w_oo)\n",
        "    ot = tf.math.tanh(ot)\n",
        "    out_man.append(ot)\n",
        "    print('   Output (manual) :', ot.numpy())\n",
        "    print('   SimpleRNN output:'.format(t), output[0][t].numpy())\n",
        "    print()"
      ],
      "execution_count": null,
      "outputs": [
        {
          "output_type": "stream",
          "text": [
            "Time step 0 =>\n",
            "   Input           : [[1. 1. 1. 1. 1.]]\n",
            "   Hidden          : [[0.41464037 0.96012145]]\n",
            "   Output (manual) : [[0.39240566 0.74433106]]\n",
            "   SimpleRNN output: [0.39240566 0.74433106]\n",
            "\n",
            "Time step 1 =>\n",
            "   Input           : [[2. 2. 2. 2. 2.]]\n",
            "   Hidden          : [[0.82928073 1.9202429 ]]\n",
            "   Output (manual) : [[0.80116504 0.99129474]]\n",
            "   SimpleRNN output: [0.80116504 0.99129474]\n",
            "\n",
            "Time step 2 =>\n",
            "   Input           : [[3. 3. 3. 3. 3.]]\n",
            "   Hidden          : [[1.243921  2.8803642]]\n",
            "   Output (manual) : [[0.95468265 0.99930704]]\n",
            "   SimpleRNN output: [0.95468265 0.99930704]\n",
            "\n"
          ],
          "name": "stdout"
        }
      ]
    },
    {
      "cell_type": "markdown",
      "metadata": {
        "id": "VZK0_Iz0htUm"
      },
      "source": [
        "## The challenges of learning long-range interactions\n"
      ]
    },
    {
      "cell_type": "code",
      "metadata": {
        "id": "q-5oc5kjhtUn"
      },
      "source": [
        "#Image(filename='#Images/16_08.png', width=700)"
      ],
      "execution_count": null,
      "outputs": []
    },
    {
      "cell_type": "markdown",
      "metadata": {
        "id": "H05o2hfChtUn"
      },
      "source": [
        "\n",
        "## Long Short-Term Memory cells "
      ]
    },
    {
      "cell_type": "code",
      "metadata": {
        "id": "K-KOXvJlhtUn"
      },
      "source": [
        "#Image(filename='#Images/16_09.png', width=700)"
      ],
      "execution_count": null,
      "outputs": []
    },
    {
      "cell_type": "markdown",
      "metadata": {
        "id": "BL0VqyJohtUo"
      },
      "source": [
        "# Implementing RNNs for sequence modeling in TensorFlow\n",
        "\n",
        "## Project one: predicting the sentiment of IMDb movie reviews\n",
        "\n",
        "### Preparing the movie review data\n",
        "\n"
      ]
    },
    {
      "cell_type": "code",
      "metadata": {
        "id": "qS8phUh_htUo"
      },
      "source": [
        "import tensorflow as tf\n",
        "import tensorflow_datasets as tfds\n",
        "import numpy as np\n",
        "import pandas as pd\n",
        "import os\n"
      ],
      "execution_count": null,
      "outputs": []
    },
    {
      "cell_type": "code",
      "metadata": {
        "id": "YycIZnYnKph4",
        "colab": {
          "base_uri": "https://localhost:8080/",
          "height": 195
        },
        "outputId": "55163108-fcc4-40c4-cf42-9c4374568182"
      },
      "source": [
        "df = pd.read_csv('https://raw.githubusercontent.com/tleitch/BDML/main/NLP/sTrain.csv')\n",
        "df = df.drop(df.columns[[0]],axis=1)\n",
        "df.tail()"
      ],
      "execution_count": null,
      "outputs": [
        {
          "output_type": "execute_result",
          "data": {
            "text/html": [
              "<div>\n",
              "<style scoped>\n",
              "    .dataframe tbody tr th:only-of-type {\n",
              "        vertical-align: middle;\n",
              "    }\n",
              "\n",
              "    .dataframe tbody tr th {\n",
              "        vertical-align: top;\n",
              "    }\n",
              "\n",
              "    .dataframe thead th {\n",
              "        text-align: right;\n",
              "    }\n",
              "</style>\n",
              "<table border=\"1\" class=\"dataframe\">\n",
              "  <thead>\n",
              "    <tr style=\"text-align: right;\">\n",
              "      <th></th>\n",
              "      <th>review</th>\n",
              "      <th>sentiment</th>\n",
              "    </tr>\n",
              "  </thead>\n",
              "  <tbody>\n",
              "    <tr>\n",
              "      <th>30362</th>\n",
              "      <td>We arrived late at night and walked in to a ch...</td>\n",
              "      <td>1</td>\n",
              "    </tr>\n",
              "    <tr>\n",
              "      <th>30363</th>\n",
              "      <td>The only positive impression is location and p...</td>\n",
              "      <td>0</td>\n",
              "    </tr>\n",
              "    <tr>\n",
              "      <th>30364</th>\n",
              "      <td>Traveling with friends for shopping and a show...</td>\n",
              "      <td>0</td>\n",
              "    </tr>\n",
              "    <tr>\n",
              "      <th>30365</th>\n",
              "      <td>The experience was just ok. We paid extra for ...</td>\n",
              "      <td>0</td>\n",
              "    </tr>\n",
              "    <tr>\n",
              "      <th>30366</th>\n",
              "      <td>The Westin is a wonderfully restored grande da...</td>\n",
              "      <td>1</td>\n",
              "    </tr>\n",
              "  </tbody>\n",
              "</table>\n",
              "</div>"
            ],
            "text/plain": [
              "                                                  review  sentiment\n",
              "30362  We arrived late at night and walked in to a ch...          1\n",
              "30363  The only positive impression is location and p...          0\n",
              "30364  Traveling with friends for shopping and a show...          0\n",
              "30365  The experience was just ok. We paid extra for ...          0\n",
              "30366  The Westin is a wonderfully restored grande da...          1"
            ]
          },
          "metadata": {
            "tags": []
          },
          "execution_count": 14
        }
      ]
    },
    {
      "cell_type": "code",
      "metadata": {
        "id": "DGgLAWeRhtUp",
        "colab": {
          "base_uri": "https://localhost:8080/"
        },
        "outputId": "2c98b58a-3e45-479c-8562-eaecfe3ef83b"
      },
      "source": [
        "# Step 1: Create a dataset\n",
        "\n",
        "target = df.pop('sentiment')\n",
        "\n",
        "ds_raw = tf.data.Dataset.from_tensor_slices(\n",
        "    (df.values, target.values))\n",
        "\n",
        "## inspection:\n",
        "for ex in ds_raw.take(3):\n",
        "    tf.print(ex[0].numpy()[0][:50], ex[1])"
      ],
      "execution_count": null,
      "outputs": [
        {
          "output_type": "stream",
          "text": [
            "b'The room was kind of clean but had a VERY strong s' 0\n",
            "b'I booked this hotel through Hotwire at the lowest ' 0\n",
            "b'Stayed here with husband and sons on the way to an' 1\n"
          ],
          "name": "stdout"
        }
      ]
    },
    {
      "cell_type": "markdown",
      "metadata": {
        "id": "_9aqds-ghtUp"
      },
      "source": [
        " * **Train/validaiton/test splits**"
      ]
    },
    {
      "cell_type": "code",
      "metadata": {
        "id": "InXrB02JhtUp"
      },
      "source": [
        "tf.random.set_seed(1)\n",
        "\n",
        "ds_raw = ds_raw.shuffle(\n",
        "    50000, reshuffle_each_iteration=False)\n",
        "\n",
        "ds_raw_test = ds_raw.take(25000)\n",
        "ds_raw_train_valid = ds_raw.skip(25000)\n",
        "ds_raw_train = ds_raw_train_valid.take(20000)\n",
        "ds_raw_valid = ds_raw_train_valid.skip(20000)"
      ],
      "execution_count": null,
      "outputs": []
    },
    {
      "cell_type": "markdown",
      "metadata": {
        "id": "vviYErI7htUp"
      },
      "source": [
        " * **Tokenizer and Encoder**\n",
        "   * `tfds.deprecated.text.Tokenizer`: https://www.tensorflow.org/datasets/api_docs/python/tfds/deprecated/text/Tokenizer\n",
        "   * `tfds.deprecated.text.TokenTextEncoder`: https://www.tensorflow.org/datasets/api_docs/python/tfds/features/text/TokenTextEncoder"
      ]
    },
    {
      "cell_type": "markdown",
      "metadata": {
        "id": "cYpXbIEPhtUq"
      },
      "source": [
        " * **Encoding sequences: keeping the last 100 items in each sequence**"
      ]
    },
    {
      "cell_type": "code",
      "metadata": {
        "id": "IAQEes_khtUq",
        "colab": {
          "base_uri": "https://localhost:8080/"
        },
        "outputId": "5369571f-59af-453b-e702-6edf828c3d3b"
      },
      "source": [
        "## Step 2: find unique tokens (words)\n",
        "\n",
        "from collections import Counter\n",
        "\n",
        "tokenizer = tfds.deprecated.text.Tokenizer()\n",
        "token_counts = Counter()\n",
        "\n",
        "for example in ds_raw_train:\n",
        "    tokens = tokenizer.tokenize(example[0].numpy()[0])\n",
        "    token_counts.update(tokens)\n",
        "    \n",
        "print('Vocab-size:', len(token_counts))"
      ],
      "execution_count": null,
      "outputs": [
        {
          "output_type": "stream",
          "text": [
            "Vocab-size: 22798\n"
          ],
          "name": "stdout"
        }
      ]
    },
    {
      "cell_type": "code",
      "metadata": {
        "id": "6bAgVOrghtUq",
        "colab": {
          "base_uri": "https://localhost:8080/"
        },
        "outputId": "4b5a803b-c80d-4623-c19f-7f67fe8be62f"
      },
      "source": [
        "## Step 3: encoding each unique token into integers\n",
        "\n",
        "encoder = tfds.deprecated.text.TokenTextEncoder(token_counts)\n",
        "\n",
        "example_str = 'This is an example!'\n",
        "encoder.encode(example_str)"
      ],
      "execution_count": null,
      "outputs": [
        {
          "output_type": "execute_result",
          "data": {
            "text/plain": [
              "[105, 63, 33, 1374]"
            ]
          },
          "metadata": {
            "tags": []
          },
          "execution_count": 18
        }
      ]
    },
    {
      "cell_type": "code",
      "metadata": {
        "id": "TeQv16kBhtUr"
      },
      "source": [
        "## Step 3-A: define the function for transformation\n",
        "\n",
        "def encode(text_tensor, label):\n",
        "    text = text_tensor.numpy()[0]\n",
        "    encoded_text = encoder.encode(text)\n",
        "    return encoded_text, label\n",
        "\n",
        "## Step 3-B: wrap the encode function to a TF Op.\n",
        "def encode_map_fn(text, label):\n",
        "    return tf.py_function(encode, inp=[text, label], \n",
        "                          Tout=(tf.int64, tf.int64))"
      ],
      "execution_count": null,
      "outputs": []
    },
    {
      "cell_type": "code",
      "metadata": {
        "id": "5beiP2r-htUr",
        "colab": {
          "base_uri": "https://localhost:8080/"
        },
        "outputId": "2e50934f-ce46-485a-d8e6-766b93ce7859"
      },
      "source": [
        "ds_train = ds_raw_train.map(encode_map_fn)\n",
        "ds_valid = ds_raw_valid.map(encode_map_fn)\n",
        "ds_test = ds_raw_test.map(encode_map_fn)\n",
        "\n",
        "tf.random.set_seed(1)\n",
        "for example in ds_train.shuffle(1000).take(5):\n",
        "    print('Sequence length:', example[0].shape)\n",
        "    \n",
        "example"
      ],
      "execution_count": null,
      "outputs": [
        {
          "output_type": "stream",
          "text": [
            "Sequence length: (454,)\n",
            "Sequence length: (137,)\n",
            "Sequence length: (103,)\n",
            "Sequence length: (269,)\n",
            "Sequence length: (63,)\n"
          ],
          "name": "stdout"
        },
        {
          "output_type": "execute_result",
          "data": {
            "text/plain": [
              "(<tf.Tensor: shape=(63,), dtype=int64, numpy=\n",
              " array([ 213,   57,  193,  450,  468,   17, 1522,  114,  467,  976, 1392,\n",
              "          37,  728,   40,  375,   38, 1012, 8786, 7124,    6, 1139,  647,\n",
              "        5808,   17, 3759,  204, 8787,  323,  997, 1634,  717, 1655,   17,\n",
              "        8154,   41,  757, 1996,  998,  682, 5456,   11,  452, 8788,   17,\n",
              "        3281,   21, 5426,  730,  248,   17, 1589,   65,   57, 1637, 7682,\n",
              "         938,   17,  939, 8789,  831,  262,  145,  287])>,\n",
              " <tf.Tensor: shape=(), dtype=int64, numpy=1>)"
            ]
          },
          "metadata": {
            "tags": []
          },
          "execution_count": 20
        }
      ]
    },
    {
      "cell_type": "markdown",
      "metadata": {
        "id": "458k263FhtUs"
      },
      "source": [
        " * **batch() vs. padded_batch()**"
      ]
    },
    {
      "cell_type": "markdown",
      "metadata": {
        "id": "SZMaVtNehtUs"
      },
      "source": [
        "```python\n",
        "\n",
        "# this will result in error\n",
        "\n",
        "\n",
        "BATCH_SIZE = 32\n",
        "train_data = all_encoded_data.batch(BATCH_SIZE)\n",
        "\n",
        "next(iter(train_data))\n",
        "\n",
        "# Running this will result in error\n",
        "# We cannot apply .batch() to this dataset\n",
        "```"
      ]
    },
    {
      "cell_type": "code",
      "metadata": {
        "id": "8ChdQ6SlhtUs",
        "colab": {
          "base_uri": "https://localhost:8080/"
        },
        "outputId": "428514c5-18d1-45cd-8612-46a1bd50b74c"
      },
      "source": [
        "## Take a small subset\n",
        "\n",
        "ds_subset = ds_train.take(8)\n",
        "for example in ds_subset:\n",
        "    print('Individual size:', example[0].shape)\n",
        "\n",
        "## batching the datasets\n",
        "ds_batched = ds_subset.padded_batch(\n",
        "    4, padded_shapes=([-1], []))\n",
        "\n",
        "for batch in ds_batched:\n",
        "    print('Batch dimension:', batch[0].shape)"
      ],
      "execution_count": null,
      "outputs": [
        {
          "output_type": "stream",
          "text": [
            "Individual size: (303,)\n",
            "Individual size: (291,)\n",
            "Individual size: (92,)\n",
            "Individual size: (316,)\n",
            "Individual size: (232,)\n",
            "Individual size: (132,)\n",
            "Individual size: (219,)\n",
            "Individual size: (121,)\n",
            "Batch dimension: (4, 316)\n",
            "Batch dimension: (4, 232)\n"
          ],
          "name": "stdout"
        }
      ]
    },
    {
      "cell_type": "code",
      "metadata": {
        "id": "Xo02TgWKhtUt"
      },
      "source": [
        "## batching the datasets\n",
        "train_data = ds_train.padded_batch(\n",
        "    32, padded_shapes=([-1],[]))\n",
        "\n",
        "valid_data = ds_valid.padded_batch(\n",
        "    32, padded_shapes=([-1],[]))\n",
        "\n",
        "test_data = ds_test.padded_batch(\n",
        "    32, padded_shapes=([-1],[]))"
      ],
      "execution_count": null,
      "outputs": []
    },
    {
      "cell_type": "markdown",
      "metadata": {
        "id": "kKwIM_hGhtUt"
      },
      "source": [
        "### Embedding layers for sentence encoding\n",
        "\n",
        "\n",
        " * `input_dim`: number of words, i.e. maximum integer index + 1.\n",
        " * `output_dim`: \n",
        " * `input_length`: the length of (padded) sequence\n",
        "    * for example, `'This is an example' -> [0, 0, 0, 0, 0, 0, 3, 1, 8, 9]`   \n",
        "    => input_lenght is 10\n",
        " \n",
        " \n",
        "\n",
        " * When calling the layer, takes integr values as input,   \n",
        " the embedding layer convert each interger into float vector of size `[output_dim]`\n",
        "   * If input shape is `[BATCH_SIZE]`, output shape will be `[BATCH_SIZE, output_dim]`\n",
        "   * If input shape is `[BATCH_SIZE, 10]`, output shape will be `[BATCH_SIZE, 10, output_dim]`"
      ]
    },
    {
      "cell_type": "code",
      "metadata": {
        "id": "jtV5hRXphtUt"
      },
      "source": [
        "#Image(filename='#Images/16_10.png', width=700)"
      ],
      "execution_count": null,
      "outputs": []
    },
    {
      "cell_type": "code",
      "metadata": {
        "id": "t-QvkjNChtUt",
        "colab": {
          "base_uri": "https://localhost:8080/"
        },
        "outputId": "3bf68a77-97d7-4b13-9293-3f767d83c445"
      },
      "source": [
        "from tensorflow.keras.layers import Embedding\n",
        "\n",
        "\n",
        "model = tf.keras.Sequential()\n",
        "\n",
        "model.add(Embedding(input_dim=100,\n",
        "                    output_dim=6,\n",
        "                    input_length=20,\n",
        "                    name='embed-layer'))\n",
        "\n",
        "model.summary()"
      ],
      "execution_count": null,
      "outputs": [
        {
          "output_type": "stream",
          "text": [
            "Model: \"sequential\"\n",
            "_________________________________________________________________\n",
            "Layer (type)                 Output Shape              Param #   \n",
            "=================================================================\n",
            "embed-layer (Embedding)      (None, 20, 6)             600       \n",
            "=================================================================\n",
            "Total params: 600\n",
            "Trainable params: 600\n",
            "Non-trainable params: 0\n",
            "_________________________________________________________________\n"
          ],
          "name": "stdout"
        }
      ]
    },
    {
      "cell_type": "markdown",
      "metadata": {
        "id": "Fm0WNh24htUu"
      },
      "source": [
        "### Building an RNN model\n",
        "\n",
        "* **Keras RNN layers:**\n",
        "  * `tf.keras.layers.SimpleRNN(units, return_sequences=False)`\n",
        "  * `tf.keras.layers.LSTM(..)`\n",
        "  * `tf.keras.layers.GRU(..)`\n",
        "  * `tf.keras.layers.Bidirectional()`\n",
        " \n",
        "* **Determine `return_sequenes=?`**\n",
        "  * In a multi-layer RNN, all RNN layers except the last one should have `return_sequenes=True`\n",
        "  * For the last RNN layer, decide based on the type of problem: \n",
        "     * many-to-many: -> `return_sequences=True`\n",
        "     * many-to-one : -> `return_sequenes=False`\n",
        "     * ..\n",
        "    "
      ]
    },
    {
      "cell_type": "code",
      "metadata": {
        "id": "iwm2Bi2lhtUu",
        "colab": {
          "base_uri": "https://localhost:8080/"
        },
        "outputId": "634580a0-e6d0-4013-9d9a-9a67bdd219c0"
      },
      "source": [
        "## An example of building a RNN model\n",
        "## with SimpleRNN layer\n",
        "\n",
        "from tensorflow.keras import Sequential\n",
        "from tensorflow.keras.layers import Embedding\n",
        "from tensorflow.keras.layers import SimpleRNN\n",
        "from tensorflow.keras.layers import Dense\n",
        "\n",
        "model = Sequential()\n",
        "model.add(Embedding(1000, 32))\n",
        "model.add(SimpleRNN(32, return_sequences=True))\n",
        "model.add(SimpleRNN(32))\n",
        "model.add(Dense(1))\n",
        "model.summary()"
      ],
      "execution_count": null,
      "outputs": [
        {
          "output_type": "stream",
          "text": [
            "Model: \"sequential_1\"\n",
            "_________________________________________________________________\n",
            "Layer (type)                 Output Shape              Param #   \n",
            "=================================================================\n",
            "embedding (Embedding)        (None, None, 32)          32000     \n",
            "_________________________________________________________________\n",
            "simple_rnn_1 (SimpleRNN)     (None, None, 32)          2080      \n",
            "_________________________________________________________________\n",
            "simple_rnn_2 (SimpleRNN)     (None, 32)                2080      \n",
            "_________________________________________________________________\n",
            "dense (Dense)                (None, 1)                 33        \n",
            "=================================================================\n",
            "Total params: 36,193\n",
            "Trainable params: 36,193\n",
            "Non-trainable params: 0\n",
            "_________________________________________________________________\n"
          ],
          "name": "stdout"
        }
      ]
    },
    {
      "cell_type": "code",
      "metadata": {
        "id": "QH1JKPs3htUu",
        "colab": {
          "base_uri": "https://localhost:8080/"
        },
        "outputId": "194e1a22-e3fc-47e7-e1e0-589e227f7a8c"
      },
      "source": [
        "## An example of building a RNN model\n",
        "## with LSTM layer\n",
        "\n",
        "\n",
        "from tensorflow.keras.layers import LSTM\n",
        "\n",
        "\n",
        "model = Sequential()\n",
        "model.add(Embedding(10000, 32))\n",
        "model.add(LSTM(32, return_sequences=True))\n",
        "model.add(LSTM(32))\n",
        "model.add(Dense(1))\n",
        "model.summary()"
      ],
      "execution_count": null,
      "outputs": [
        {
          "output_type": "stream",
          "text": [
            "Model: \"sequential_2\"\n",
            "_________________________________________________________________\n",
            "Layer (type)                 Output Shape              Param #   \n",
            "=================================================================\n",
            "embedding_1 (Embedding)      (None, None, 32)          320000    \n",
            "_________________________________________________________________\n",
            "lstm (LSTM)                  (None, None, 32)          8320      \n",
            "_________________________________________________________________\n",
            "lstm_1 (LSTM)                (None, 32)                8320      \n",
            "_________________________________________________________________\n",
            "dense_1 (Dense)              (None, 1)                 33        \n",
            "=================================================================\n",
            "Total params: 336,673\n",
            "Trainable params: 336,673\n",
            "Non-trainable params: 0\n",
            "_________________________________________________________________\n"
          ],
          "name": "stdout"
        }
      ]
    },
    {
      "cell_type": "code",
      "metadata": {
        "id": "qE7-5DHmhtUu",
        "colab": {
          "base_uri": "https://localhost:8080/"
        },
        "outputId": "2a05f4dc-8281-4e77-db10-ce60a057fdf3"
      },
      "source": [
        "## An example of building a RNN model\n",
        "## with GRU layer\n",
        "from tensorflow.keras.layers import GRU\n",
        "\n",
        "model = Sequential()\n",
        "model.add(Embedding(10000, 32))\n",
        "model.add(GRU(32, return_sequences=True))\n",
        "model.add(GRU(32))\n",
        "model.add(Dense(1))\n",
        "model.summary()"
      ],
      "execution_count": null,
      "outputs": [
        {
          "output_type": "stream",
          "text": [
            "Model: \"sequential_3\"\n",
            "_________________________________________________________________\n",
            "Layer (type)                 Output Shape              Param #   \n",
            "=================================================================\n",
            "embedding_2 (Embedding)      (None, None, 32)          320000    \n",
            "_________________________________________________________________\n",
            "gru (GRU)                    (None, None, 32)          6336      \n",
            "_________________________________________________________________\n",
            "gru_1 (GRU)                  (None, 32)                6336      \n",
            "_________________________________________________________________\n",
            "dense_2 (Dense)              (None, 1)                 33        \n",
            "=================================================================\n",
            "Total params: 332,705\n",
            "Trainable params: 332,705\n",
            "Non-trainable params: 0\n",
            "_________________________________________________________________\n"
          ],
          "name": "stdout"
        }
      ]
    }
  ]
}